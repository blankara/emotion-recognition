{
 "cells": [
  {
   "cell_type": "markdown",
   "id": "f4c6c29f",
   "metadata": {},
   "source": [
    "# Emotion Recognition from Text\n",
    "Using Hugging Face Transformers and DistilRoBERTa"
   ]
  },
  {
   "cell_type": "code",
   "execution_count": null,
   "id": "1c0248e9",
   "metadata": {},
   "outputs": [],
   "source": [
    "!pip install transformers torch --quiet\n"
   ]
  },
  {
   "cell_type": "markdown",
   "id": "52bdfce1",
   "metadata": {},
   "source": [
    "## Load model and tokenizer"
   ]
  },
  {
   "cell_type": "code",
   "execution_count": null,
   "id": "1f6d3333",
   "metadata": {},
   "outputs": [],
   "source": [
    "from transformers import AutoTokenizer, AutoModelForSequenceClassification\n",
    "from transformers import pipeline\n",
    "\n",
    "# Load pretrained model\n",
    "model_name = \"j-hartmann/emotion-english-distilroberta-base\"\n",
    "classifier = pipeline(\"text-classification\", model=model_name, tokenizer=model_name, return_all_scores=True)\n"
   ]
  },
  {
   "cell_type": "markdown",
   "id": "972287c2",
   "metadata": {},
   "source": [
    "## Test the model with your own sentence"
   ]
  },
  {
   "cell_type": "code",
   "execution_count": null,
   "id": "06514775",
   "metadata": {},
   "outputs": [],
   "source": [
    "text = \"I'm so tired of this. Nothing works out.\"\n",
    "results = classifier(text)[0]\n",
    "\n",
    "# Sort by score\n",
    "results = sorted(results, key=lambda x: x['score'], reverse=True)\n",
    "\n",
    "for result in results:\n",
    "    print(f\"{result['label']:>10}: {result['score']:.4f}\")\n"
   ]
  },
  {
   "cell_type": "markdown",
   "id": "38e244b6",
   "metadata": {},
   "source": [
    "## Try with your own input"
   ]
  },
  {
   "cell_type": "code",
   "execution_count": null,
   "id": "7303b44e",
   "metadata": {},
   "outputs": [],
   "source": [
    "your_text = input(\"Enter a sentence: \")\n",
    "your_results = classifier(your_text)[0]\n",
    "your_results = sorted(your_results, key=lambda x: x['score'], reverse=True)\n",
    "\n",
    "print(\"\\nPredicted emotions:\")\n",
    "for res in your_results:\n",
    "    print(f\"{res['label']:>10}: {res['score']:.4f}\")\n"
   ]
  }
 ],
 "metadata": {},
 "nbformat": 4,
 "nbformat_minor": 5
}
